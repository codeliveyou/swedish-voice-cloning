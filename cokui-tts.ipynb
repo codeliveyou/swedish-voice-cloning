{
 "cells": [
  {
   "cell_type": "code",
   "execution_count": null,
   "metadata": {},
   "outputs": [],
   "source": [
    "!sudo apt-get install espeak-ng\n",
    "!git clone https://github.com/coqui-ai/TTS\n",
    "!pip install TTS"
   ]
  }
 ],
 "metadata": {
  "language_info": {
   "name": "python"
  }
 },
 "nbformat": 4,
 "nbformat_minor": 2
}
